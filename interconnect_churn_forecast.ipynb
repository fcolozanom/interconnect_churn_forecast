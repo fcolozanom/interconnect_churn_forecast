{
 "cells": [
  {
   "attachments": {},
   "cell_type": "markdown",
   "metadata": {},
   "source": [
    "## 1.- Exploración de datos"
   ]
  },
  {
   "cell_type": "code",
   "execution_count": 32,
   "metadata": {},
   "outputs": [],
   "source": [
    "# Importa librerías necesarias\n",
    "import pandas as pd\n",
    "import numpy as np\n",
    "import matplotlib.pyplot as plt\n",
    "import seaborn as sns\n",
    "from sklearn.model_selection import train_test_split, cross_val_score, GridSearchCV\n",
    "from sklearn.preprocessing import LabelEncoder, StandardScaler\n",
    "from sklearn.ensemble import RandomForestClassifier\n",
    "from sklearn.metrics import accuracy_score, confusion_matrix, classification_report\n",
    "from sklearn.preprocessing import OneHotEncoder"
   ]
  },
  {
   "cell_type": "code",
   "execution_count": 33,
   "metadata": {},
   "outputs": [
    {
     "name": "stdout",
     "output_type": "stream",
     "text": [
      "Data loaded successfully from files/datasets/input/contract.csv\n",
      "Data loaded successfully from files/datasets/input/personal.csv\n",
      "Data loaded successfully from files/datasets/input/internet.csv\n",
      "Data loaded successfully from files/datasets/input/phone.csv\n"
     ]
    }
   ],
   "source": [
    "# Función para cargar datos con manejo de errores\n",
    "def load_data(file_name):\n",
    "    file_path = f\"files/datasets/input/{file_name}\"\n",
    "    try:\n",
    "        data = pd.read_csv(file_path)\n",
    "        print(f\"Data loaded successfully from {file_path}\")\n",
    "        return data\n",
    "    except Exception as e:\n",
    "        print(f\"Error: File {file_path} not found.\")\n",
    "        return None\n",
    "\n",
    "# Carga los datos\n",
    "contract_data = load_data('contract.csv')\n",
    "personal_data = load_data('personal.csv')\n",
    "internet_data = load_data('internet.csv')\n",
    "phone_data = load_data('phone.csv')"
   ]
  },
  {
   "cell_type": "code",
   "execution_count": 34,
   "metadata": {},
   "outputs": [],
   "source": [
    "# Verifica si los datos se cargaron correctamente\n",
    "if contract_data is not None and personal_data is not None and internet_data is not None and phone_data is not None:\n",
    "    # Une los datos en un solo DataFrame\n",
    "    merged_data = pd.merge(contract_data, personal_data, on='customerID', how='inner')\n",
    "    merged_data = pd.merge(merged_data, internet_data, on='customerID', how='left')\n",
    "    merged_data = pd.merge(merged_data, phone_data, on='customerID', how='left')"
   ]
  },
  {
   "cell_type": "code",
   "execution_count": 35,
   "metadata": {},
   "outputs": [
    {
     "name": "stdout",
     "output_type": "stream",
     "text": [
      "<bound method DataFrame.info of       customerID   BeginDate              EndDate            Type  \\\n",
      "0     7590-VHVEG  2020-01-01                   No  Month-to-month   \n",
      "1     5575-GNVDE  2017-04-01                   No        One year   \n",
      "2     3668-QPYBK  2019-10-01  2019-12-01 00:00:00  Month-to-month   \n",
      "3     7795-CFOCW  2016-05-01                   No        One year   \n",
      "4     9237-HQITU  2019-09-01  2019-11-01 00:00:00  Month-to-month   \n",
      "...          ...         ...                  ...             ...   \n",
      "7038  6840-RESVB  2018-02-01                   No        One year   \n",
      "7039  2234-XADUH  2014-02-01                   No        One year   \n",
      "7040  4801-JZAZL  2019-03-01                   No  Month-to-month   \n",
      "7041  8361-LTMKD  2019-07-01  2019-11-01 00:00:00  Month-to-month   \n",
      "7042  3186-AJIEK  2014-08-01                   No        Two year   \n",
      "\n",
      "     PaperlessBilling              PaymentMethod  MonthlyCharges TotalCharges  \\\n",
      "0                 Yes           Electronic check           29.85        29.85   \n",
      "1                  No               Mailed check           56.95       1889.5   \n",
      "2                 Yes               Mailed check           53.85       108.15   \n",
      "3                  No  Bank transfer (automatic)           42.30      1840.75   \n",
      "4                 Yes           Electronic check           70.70       151.65   \n",
      "...               ...                        ...             ...          ...   \n",
      "7038              Yes               Mailed check           84.80       1990.5   \n",
      "7039              Yes    Credit card (automatic)          103.20       7362.9   \n",
      "7040              Yes           Electronic check           29.60       346.45   \n",
      "7041              Yes               Mailed check           74.40        306.6   \n",
      "7042              Yes  Bank transfer (automatic)          105.65       6844.5   \n",
      "\n",
      "      gender  SeniorCitizen Partner Dependents InternetService OnlineSecurity  \\\n",
      "0     Female              0     Yes         No             DSL             No   \n",
      "1       Male              0      No         No             DSL            Yes   \n",
      "2       Male              0      No         No             DSL            Yes   \n",
      "3       Male              0      No         No             DSL            Yes   \n",
      "4     Female              0      No         No     Fiber optic             No   \n",
      "...      ...            ...     ...        ...             ...            ...   \n",
      "7038    Male              0     Yes        Yes             DSL            Yes   \n",
      "7039  Female              0     Yes        Yes     Fiber optic             No   \n",
      "7040  Female              0     Yes        Yes             DSL            Yes   \n",
      "7041    Male              1     Yes         No     Fiber optic             No   \n",
      "7042    Male              0      No         No     Fiber optic            Yes   \n",
      "\n",
      "     OnlineBackup DeviceProtection TechSupport StreamingTV StreamingMovies  \\\n",
      "0             Yes               No          No          No              No   \n",
      "1              No              Yes          No          No              No   \n",
      "2             Yes               No          No          No              No   \n",
      "3              No              Yes         Yes          No              No   \n",
      "4              No               No          No          No              No   \n",
      "...           ...              ...         ...         ...             ...   \n",
      "7038           No              Yes         Yes         Yes             Yes   \n",
      "7039          Yes              Yes          No         Yes             Yes   \n",
      "7040           No               No          No          No              No   \n",
      "7041           No               No          No          No              No   \n",
      "7042           No              Yes         Yes         Yes             Yes   \n",
      "\n",
      "     MultipleLines  \n",
      "0              NaN  \n",
      "1               No  \n",
      "2               No  \n",
      "3              NaN  \n",
      "4               No  \n",
      "...            ...  \n",
      "7038           Yes  \n",
      "7039           Yes  \n",
      "7040           NaN  \n",
      "7041           Yes  \n",
      "7042            No  \n",
      "\n",
      "[7043 rows x 20 columns]>\n"
     ]
    }
   ],
   "source": [
    "# Muestra información sobre los datos cargados\n",
    "print(merged_data.info)"
   ]
  },
  {
   "cell_type": "code",
   "execution_count": 36,
   "metadata": {},
   "outputs": [
    {
     "data": {
      "text/html": [
       "<div>\n",
       "<style scoped>\n",
       "    .dataframe tbody tr th:only-of-type {\n",
       "        vertical-align: middle;\n",
       "    }\n",
       "\n",
       "    .dataframe tbody tr th {\n",
       "        vertical-align: top;\n",
       "    }\n",
       "\n",
       "    .dataframe thead th {\n",
       "        text-align: right;\n",
       "    }\n",
       "</style>\n",
       "<table border=\"1\" class=\"dataframe\">\n",
       "  <thead>\n",
       "    <tr style=\"text-align: right;\">\n",
       "      <th></th>\n",
       "      <th>customerID</th>\n",
       "      <th>BeginDate</th>\n",
       "      <th>EndDate</th>\n",
       "      <th>Type</th>\n",
       "      <th>PaperlessBilling</th>\n",
       "      <th>PaymentMethod</th>\n",
       "      <th>MonthlyCharges</th>\n",
       "      <th>TotalCharges</th>\n",
       "      <th>gender</th>\n",
       "      <th>SeniorCitizen</th>\n",
       "      <th>Partner</th>\n",
       "      <th>Dependents</th>\n",
       "      <th>InternetService</th>\n",
       "      <th>OnlineSecurity</th>\n",
       "      <th>OnlineBackup</th>\n",
       "      <th>DeviceProtection</th>\n",
       "      <th>TechSupport</th>\n",
       "      <th>StreamingTV</th>\n",
       "      <th>StreamingMovies</th>\n",
       "      <th>MultipleLines</th>\n",
       "    </tr>\n",
       "  </thead>\n",
       "  <tbody>\n",
       "    <tr>\n",
       "      <th>0</th>\n",
       "      <td>7590-VHVEG</td>\n",
       "      <td>2020-01-01</td>\n",
       "      <td>No</td>\n",
       "      <td>Month-to-month</td>\n",
       "      <td>Yes</td>\n",
       "      <td>Electronic check</td>\n",
       "      <td>29.85</td>\n",
       "      <td>29.85</td>\n",
       "      <td>Female</td>\n",
       "      <td>0</td>\n",
       "      <td>Yes</td>\n",
       "      <td>No</td>\n",
       "      <td>DSL</td>\n",
       "      <td>No</td>\n",
       "      <td>Yes</td>\n",
       "      <td>No</td>\n",
       "      <td>No</td>\n",
       "      <td>No</td>\n",
       "      <td>No</td>\n",
       "      <td>NaN</td>\n",
       "    </tr>\n",
       "    <tr>\n",
       "      <th>1</th>\n",
       "      <td>5575-GNVDE</td>\n",
       "      <td>2017-04-01</td>\n",
       "      <td>No</td>\n",
       "      <td>One year</td>\n",
       "      <td>No</td>\n",
       "      <td>Mailed check</td>\n",
       "      <td>56.95</td>\n",
       "      <td>1889.5</td>\n",
       "      <td>Male</td>\n",
       "      <td>0</td>\n",
       "      <td>No</td>\n",
       "      <td>No</td>\n",
       "      <td>DSL</td>\n",
       "      <td>Yes</td>\n",
       "      <td>No</td>\n",
       "      <td>Yes</td>\n",
       "      <td>No</td>\n",
       "      <td>No</td>\n",
       "      <td>No</td>\n",
       "      <td>No</td>\n",
       "    </tr>\n",
       "    <tr>\n",
       "      <th>2</th>\n",
       "      <td>3668-QPYBK</td>\n",
       "      <td>2019-10-01</td>\n",
       "      <td>2019-12-01 00:00:00</td>\n",
       "      <td>Month-to-month</td>\n",
       "      <td>Yes</td>\n",
       "      <td>Mailed check</td>\n",
       "      <td>53.85</td>\n",
       "      <td>108.15</td>\n",
       "      <td>Male</td>\n",
       "      <td>0</td>\n",
       "      <td>No</td>\n",
       "      <td>No</td>\n",
       "      <td>DSL</td>\n",
       "      <td>Yes</td>\n",
       "      <td>Yes</td>\n",
       "      <td>No</td>\n",
       "      <td>No</td>\n",
       "      <td>No</td>\n",
       "      <td>No</td>\n",
       "      <td>No</td>\n",
       "    </tr>\n",
       "    <tr>\n",
       "      <th>3</th>\n",
       "      <td>7795-CFOCW</td>\n",
       "      <td>2016-05-01</td>\n",
       "      <td>No</td>\n",
       "      <td>One year</td>\n",
       "      <td>No</td>\n",
       "      <td>Bank transfer (automatic)</td>\n",
       "      <td>42.30</td>\n",
       "      <td>1840.75</td>\n",
       "      <td>Male</td>\n",
       "      <td>0</td>\n",
       "      <td>No</td>\n",
       "      <td>No</td>\n",
       "      <td>DSL</td>\n",
       "      <td>Yes</td>\n",
       "      <td>No</td>\n",
       "      <td>Yes</td>\n",
       "      <td>Yes</td>\n",
       "      <td>No</td>\n",
       "      <td>No</td>\n",
       "      <td>NaN</td>\n",
       "    </tr>\n",
       "    <tr>\n",
       "      <th>4</th>\n",
       "      <td>9237-HQITU</td>\n",
       "      <td>2019-09-01</td>\n",
       "      <td>2019-11-01 00:00:00</td>\n",
       "      <td>Month-to-month</td>\n",
       "      <td>Yes</td>\n",
       "      <td>Electronic check</td>\n",
       "      <td>70.70</td>\n",
       "      <td>151.65</td>\n",
       "      <td>Female</td>\n",
       "      <td>0</td>\n",
       "      <td>No</td>\n",
       "      <td>No</td>\n",
       "      <td>Fiber optic</td>\n",
       "      <td>No</td>\n",
       "      <td>No</td>\n",
       "      <td>No</td>\n",
       "      <td>No</td>\n",
       "      <td>No</td>\n",
       "      <td>No</td>\n",
       "      <td>No</td>\n",
       "    </tr>\n",
       "  </tbody>\n",
       "</table>\n",
       "</div>"
      ],
      "text/plain": [
       "   customerID   BeginDate              EndDate            Type  \\\n",
       "0  7590-VHVEG  2020-01-01                   No  Month-to-month   \n",
       "1  5575-GNVDE  2017-04-01                   No        One year   \n",
       "2  3668-QPYBK  2019-10-01  2019-12-01 00:00:00  Month-to-month   \n",
       "3  7795-CFOCW  2016-05-01                   No        One year   \n",
       "4  9237-HQITU  2019-09-01  2019-11-01 00:00:00  Month-to-month   \n",
       "\n",
       "  PaperlessBilling              PaymentMethod  MonthlyCharges TotalCharges  \\\n",
       "0              Yes           Electronic check           29.85        29.85   \n",
       "1               No               Mailed check           56.95       1889.5   \n",
       "2              Yes               Mailed check           53.85       108.15   \n",
       "3               No  Bank transfer (automatic)           42.30      1840.75   \n",
       "4              Yes           Electronic check           70.70       151.65   \n",
       "\n",
       "   gender  SeniorCitizen Partner Dependents InternetService OnlineSecurity  \\\n",
       "0  Female              0     Yes         No             DSL             No   \n",
       "1    Male              0      No         No             DSL            Yes   \n",
       "2    Male              0      No         No             DSL            Yes   \n",
       "3    Male              0      No         No             DSL            Yes   \n",
       "4  Female              0      No         No     Fiber optic             No   \n",
       "\n",
       "  OnlineBackup DeviceProtection TechSupport StreamingTV StreamingMovies  \\\n",
       "0          Yes               No          No          No              No   \n",
       "1           No              Yes          No          No              No   \n",
       "2          Yes               No          No          No              No   \n",
       "3           No              Yes         Yes          No              No   \n",
       "4           No               No          No          No              No   \n",
       "\n",
       "  MultipleLines  \n",
       "0           NaN  \n",
       "1            No  \n",
       "2            No  \n",
       "3           NaN  \n",
       "4            No  "
      ]
     },
     "metadata": {},
     "output_type": "display_data"
    }
   ],
   "source": [
    "# Visualiza una muestra del DataFrame merged_data\n",
    "display(merged_data.head())"
   ]
  },
  {
   "attachments": {},
   "cell_type": "markdown",
   "metadata": {},
   "source": [
    "En esta primera sección, se importan las bibliotecas necesarias y se define una función para cargar los datos desde archivos CSV. Después, se cargan los datos de diferentes archivos y se fusionan en un solo DataFrame. Se identifica que esta sección se centra en la preparación inicial de los datos para su análisis subsiguiente."
   ]
  },
  {
   "attachments": {},
   "cell_type": "markdown",
   "metadata": {},
   "source": [
    "## 2.- Preprocesamiento de datos"
   ]
  },
  {
   "cell_type": "code",
   "execution_count": 37,
   "metadata": {},
   "outputs": [],
   "source": [
    "# Manejo de fechas\n",
    "\n",
    "# Reemplazar los valores 'No' en 'EndDate' con la fecha de hoy\n",
    "today = pd.Timestamp('today').normalize()\n",
    "merged_data.loc[merged_data['EndDate'] == 'No', 'EndDate'] = today\n",
    "\n",
    "# Rellena valores NaN en 'EndDate' con la fecha de hoy\n",
    "merged_data['EndDate'] = merged_data['EndDate'].fillna(today)"
   ]
  },
  {
   "cell_type": "code",
   "execution_count": 38,
   "metadata": {
    "vscode": {
     "languageId": "ruby"
    }
   },
   "outputs": [],
   "source": [
    "# Convierte 'EndDate' a datetime\n",
    "merged_data['EndDate'] = pd.to_datetime(merged_data['EndDate'])\n",
    "\n",
    "# Convierte 'BeginDate' a datetime\n",
    "merged_data['BeginDate'] = pd.to_datetime(merged_data['BeginDate'])\n",
    "\n",
    "# Verifica coherencia en los datos de fechas\n",
    "if merged_data['BeginDate'].isnull().any():\n",
    "    print(\"Warning: There are missing values in 'BeginDate'\")\n",
    "if merged_data['EndDate'].isnull().any():\n",
    "    print(\"Warning: There are missing values in 'EndDate'\")\n",
    "\n",
    "# Calcula la duración del contrato en meses\n",
    "merged_data['ContractDuration'] = (merged_data['EndDate'] - merged_data['BeginDate']).dt.days / 30\n"
   ]
  },
  {
   "cell_type": "code",
   "execution_count": 39,
   "metadata": {
    "vscode": {
     "languageId": "ruby"
    }
   },
   "outputs": [],
   "source": [
    "# Crea una nueva columna 'Churn' indicando si el cliente ha cancelado o no\n",
    "merged_data['Churn'] = (pd.to_datetime(merged_data['EndDate']).dt.normalize() < today).astype(int)\n",
    "\n",
    "# Reorganiza las columnas para que 'Churn' sea la cuarta columna\n",
    "columns = list(merged_data.columns)\n",
    "columns.remove('Churn')\n",
    "columns.insert(3, 'Churn')\n",
    "merged_data = merged_data[columns]"
   ]
  },
  {
   "cell_type": "code",
   "execution_count": 40,
   "metadata": {},
   "outputs": [],
   "source": [
    "# Manejo de valores faltantes\n",
    "\n",
    "# Rellena valores faltantes en 'MultipleLines' con 'No'\n",
    "merged_data['MultipleLines'] = merged_data['MultipleLines'].fillna('No') \n",
    "\n",
    "# Convierte a numérico y manejar errores\n",
    "merged_data['TotalCharges'] = pd.to_numeric(merged_data['TotalCharges'], errors='coerce')  \n",
    "\n",
    "# Rellena valores NaN con 0\n",
    "merged_data['TotalCharges'] = merged_data['TotalCharges'].fillna(0) "
   ]
  },
  {
   "cell_type": "code",
   "execution_count": 41,
   "metadata": {},
   "outputs": [],
   "source": [
    "# Modifica la columna 'SeniorCitizen' para que en lugar de 0 y 1 sea 'No' o 'Yes'\n",
    "merged_data['SeniorCitizen'] = merged_data['SeniorCitizen'].map({0: 'No', 1: 'Yes'})"
   ]
  },
  {
   "cell_type": "code",
   "execution_count": 42,
   "metadata": {},
   "outputs": [],
   "source": [
    "# Verifica y maneja valores faltantes en otras columnas relevantes\n",
    "columns_to_check = [\n",
    "    'OnlineSecurity', 'OnlineBackup', 'DeviceProtection', \n",
    "    'TechSupport', 'StreamingTV', 'StreamingMovies'\n",
    "]\n",
    "\n",
    "for column in columns_to_check:\n",
    "    if merged_data[column].isnull().any():\n",
    "        merged_data[column] = merged_data[column].fillna('No')"
   ]
  },
  {
   "cell_type": "code",
   "execution_count": 43,
   "metadata": {},
   "outputs": [
    {
     "data": {
      "text/html": [
       "<div>\n",
       "<style scoped>\n",
       "    .dataframe tbody tr th:only-of-type {\n",
       "        vertical-align: middle;\n",
       "    }\n",
       "\n",
       "    .dataframe tbody tr th {\n",
       "        vertical-align: top;\n",
       "    }\n",
       "\n",
       "    .dataframe thead th {\n",
       "        text-align: right;\n",
       "    }\n",
       "</style>\n",
       "<table border=\"1\" class=\"dataframe\">\n",
       "  <thead>\n",
       "    <tr style=\"text-align: right;\">\n",
       "      <th></th>\n",
       "      <th>customerID</th>\n",
       "      <th>BeginDate</th>\n",
       "      <th>EndDate</th>\n",
       "      <th>Churn</th>\n",
       "      <th>Type</th>\n",
       "      <th>PaperlessBilling</th>\n",
       "      <th>PaymentMethod</th>\n",
       "      <th>MonthlyCharges</th>\n",
       "      <th>TotalCharges</th>\n",
       "      <th>gender</th>\n",
       "      <th>...</th>\n",
       "      <th>Dependents</th>\n",
       "      <th>InternetService</th>\n",
       "      <th>OnlineSecurity</th>\n",
       "      <th>OnlineBackup</th>\n",
       "      <th>DeviceProtection</th>\n",
       "      <th>TechSupport</th>\n",
       "      <th>StreamingTV</th>\n",
       "      <th>StreamingMovies</th>\n",
       "      <th>MultipleLines</th>\n",
       "      <th>ContractDuration</th>\n",
       "    </tr>\n",
       "  </thead>\n",
       "  <tbody>\n",
       "    <tr>\n",
       "      <th>0</th>\n",
       "      <td>7590-VHVEG</td>\n",
       "      <td>2020-01-01</td>\n",
       "      <td>2024-06-05</td>\n",
       "      <td>0</td>\n",
       "      <td>Month-to-month</td>\n",
       "      <td>Yes</td>\n",
       "      <td>Electronic check</td>\n",
       "      <td>29.85</td>\n",
       "      <td>29.85</td>\n",
       "      <td>Female</td>\n",
       "      <td>...</td>\n",
       "      <td>No</td>\n",
       "      <td>DSL</td>\n",
       "      <td>No</td>\n",
       "      <td>Yes</td>\n",
       "      <td>No</td>\n",
       "      <td>No</td>\n",
       "      <td>No</td>\n",
       "      <td>No</td>\n",
       "      <td>No</td>\n",
       "      <td>53.900000</td>\n",
       "    </tr>\n",
       "    <tr>\n",
       "      <th>1</th>\n",
       "      <td>5575-GNVDE</td>\n",
       "      <td>2017-04-01</td>\n",
       "      <td>2024-06-05</td>\n",
       "      <td>0</td>\n",
       "      <td>One year</td>\n",
       "      <td>No</td>\n",
       "      <td>Mailed check</td>\n",
       "      <td>56.95</td>\n",
       "      <td>1889.50</td>\n",
       "      <td>Male</td>\n",
       "      <td>...</td>\n",
       "      <td>No</td>\n",
       "      <td>DSL</td>\n",
       "      <td>Yes</td>\n",
       "      <td>No</td>\n",
       "      <td>Yes</td>\n",
       "      <td>No</td>\n",
       "      <td>No</td>\n",
       "      <td>No</td>\n",
       "      <td>No</td>\n",
       "      <td>87.400000</td>\n",
       "    </tr>\n",
       "    <tr>\n",
       "      <th>2</th>\n",
       "      <td>3668-QPYBK</td>\n",
       "      <td>2019-10-01</td>\n",
       "      <td>2019-12-01</td>\n",
       "      <td>1</td>\n",
       "      <td>Month-to-month</td>\n",
       "      <td>Yes</td>\n",
       "      <td>Mailed check</td>\n",
       "      <td>53.85</td>\n",
       "      <td>108.15</td>\n",
       "      <td>Male</td>\n",
       "      <td>...</td>\n",
       "      <td>No</td>\n",
       "      <td>DSL</td>\n",
       "      <td>Yes</td>\n",
       "      <td>Yes</td>\n",
       "      <td>No</td>\n",
       "      <td>No</td>\n",
       "      <td>No</td>\n",
       "      <td>No</td>\n",
       "      <td>No</td>\n",
       "      <td>2.033333</td>\n",
       "    </tr>\n",
       "    <tr>\n",
       "      <th>3</th>\n",
       "      <td>7795-CFOCW</td>\n",
       "      <td>2016-05-01</td>\n",
       "      <td>2024-06-05</td>\n",
       "      <td>0</td>\n",
       "      <td>One year</td>\n",
       "      <td>No</td>\n",
       "      <td>Bank transfer (automatic)</td>\n",
       "      <td>42.30</td>\n",
       "      <td>1840.75</td>\n",
       "      <td>Male</td>\n",
       "      <td>...</td>\n",
       "      <td>No</td>\n",
       "      <td>DSL</td>\n",
       "      <td>Yes</td>\n",
       "      <td>No</td>\n",
       "      <td>Yes</td>\n",
       "      <td>Yes</td>\n",
       "      <td>No</td>\n",
       "      <td>No</td>\n",
       "      <td>No</td>\n",
       "      <td>98.566667</td>\n",
       "    </tr>\n",
       "    <tr>\n",
       "      <th>4</th>\n",
       "      <td>9237-HQITU</td>\n",
       "      <td>2019-09-01</td>\n",
       "      <td>2019-11-01</td>\n",
       "      <td>1</td>\n",
       "      <td>Month-to-month</td>\n",
       "      <td>Yes</td>\n",
       "      <td>Electronic check</td>\n",
       "      <td>70.70</td>\n",
       "      <td>151.65</td>\n",
       "      <td>Female</td>\n",
       "      <td>...</td>\n",
       "      <td>No</td>\n",
       "      <td>Fiber optic</td>\n",
       "      <td>No</td>\n",
       "      <td>No</td>\n",
       "      <td>No</td>\n",
       "      <td>No</td>\n",
       "      <td>No</td>\n",
       "      <td>No</td>\n",
       "      <td>No</td>\n",
       "      <td>2.033333</td>\n",
       "    </tr>\n",
       "  </tbody>\n",
       "</table>\n",
       "<p>5 rows × 22 columns</p>\n",
       "</div>"
      ],
      "text/plain": [
       "   customerID  BeginDate    EndDate  Churn            Type PaperlessBilling  \\\n",
       "0  7590-VHVEG 2020-01-01 2024-06-05      0  Month-to-month              Yes   \n",
       "1  5575-GNVDE 2017-04-01 2024-06-05      0        One year               No   \n",
       "2  3668-QPYBK 2019-10-01 2019-12-01      1  Month-to-month              Yes   \n",
       "3  7795-CFOCW 2016-05-01 2024-06-05      0        One year               No   \n",
       "4  9237-HQITU 2019-09-01 2019-11-01      1  Month-to-month              Yes   \n",
       "\n",
       "               PaymentMethod  MonthlyCharges  TotalCharges  gender  ...  \\\n",
       "0           Electronic check           29.85         29.85  Female  ...   \n",
       "1               Mailed check           56.95       1889.50    Male  ...   \n",
       "2               Mailed check           53.85        108.15    Male  ...   \n",
       "3  Bank transfer (automatic)           42.30       1840.75    Male  ...   \n",
       "4           Electronic check           70.70        151.65  Female  ...   \n",
       "\n",
       "  Dependents InternetService OnlineSecurity OnlineBackup DeviceProtection  \\\n",
       "0         No             DSL             No          Yes               No   \n",
       "1         No             DSL            Yes           No              Yes   \n",
       "2         No             DSL            Yes          Yes               No   \n",
       "3         No             DSL            Yes           No              Yes   \n",
       "4         No     Fiber optic             No           No               No   \n",
       "\n",
       "  TechSupport StreamingTV StreamingMovies MultipleLines ContractDuration  \n",
       "0          No          No              No            No        53.900000  \n",
       "1          No          No              No            No        87.400000  \n",
       "2          No          No              No            No         2.033333  \n",
       "3         Yes          No              No            No        98.566667  \n",
       "4          No          No              No            No         2.033333  \n",
       "\n",
       "[5 rows x 22 columns]"
      ]
     },
     "metadata": {},
     "output_type": "display_data"
    }
   ],
   "source": [
    "# Visualiza una muestra del DataFrame merged_data\n",
    "display(merged_data.head())"
   ]
  },
  {
   "attachments": {},
   "cell_type": "markdown",
   "metadata": {},
   "source": [
    "En esta sección, se realizan diversas operaciones para limpiar y estructurar los datos. Aquí se manejan las fechas, se trata la presencia de valores faltantes y se ajustan algunas representaciones de datos. Esto incluye el reemplazo de valores 'No' en 'EndDate' con la fecha actual, el cálculo de la duración del contrato y la conversión de la representación de la columna 'SeniorCitizen'. Esta sección se dedica a garantizar que los datos estén listos para el análisis exploratorio."
   ]
  },
  {
   "attachments": {},
   "cell_type": "markdown",
   "metadata": {},
   "source": [
    "## 3.- Análisis exploratorio de datos (EDA)"
   ]
  },
  {
   "cell_type": "code",
   "execution_count": null,
   "metadata": {},
   "outputs": [],
   "source": [
    "# Estadísticas descriptivas para características numéricas\n",
    "print(\"\\nEstadísticas descriptivas para características numéricas:\")\n",
    "print(merged_data.describe())"
   ]
  },
  {
   "cell_type": "code",
   "execution_count": null,
   "metadata": {},
   "outputs": [],
   "source": [
    "# Análisis de distribuciones condicionales\n",
    "plt.figure(figsize=(8, 3))\n",
    "sns.histplot(data=merged_data, x='MonthlyCharges', hue='Churn', bins=30, kde=True, alpha=0.7)\n",
    "plt.title('Distribución de cargos mensuales según la tasa de cancelación')\n",
    "plt.xlabel('Cargos mensuales')\n",
    "plt.ylabel('Frecuencia')\n",
    "plt.legend(title='Churn', labels=['No', 'Sí'])\n",
    "plt.show()\n",
    "\n",
    "plt.figure(figsize=(8, 3))\n",
    "sns.boxplot(data=merged_data, x='Type', y='MonthlyCharges')\n",
    "plt.title('Distribución de cargos mensuales por tipo de contrato')\n",
    "plt.xlabel('Tipo de contrato')\n",
    "plt.ylabel('Cargos mensuales')\n",
    "plt.show()"
   ]
  },
  {
   "attachments": {},
   "cell_type": "markdown",
   "metadata": {},
   "source": [
    "**Distribución de cargos mensuales según la tasa de cancelación:**\n",
    "Este histograma muestra la distribución de los cargos mensuales de los clientes, diferenciando entre aquellos que cancelaron el servicio (Churn = Sí) y los que no (Churn = No). Se observa que los clientes que cancelaron tienden a tener cargos mensuales más altos en comparación con los que no cancelaron.\n",
    "\n",
    "**Distribución de cargos mensuales por tipo de contrato:**\n",
    "Este gráfico de caja (boxplot) muestra la distribución de los cargos mensuales según el tipo de contrato. Se puede ver que los clientes con contratos mensuales tienden a tener cargos mensuales más altos en comparación con los que tienen contratos anuales o bianuales."
   ]
  },
  {
   "cell_type": "code",
   "execution_count": null,
   "metadata": {},
   "outputs": [],
   "source": [
    "# Visualización de características categóricas\n",
    "categorical_cols = ['Type', 'PaperlessBilling', 'PaymentMethod', 'gender','SeniorCitizen', 'Partner', 'Dependents', \n",
    "                    'InternetService', 'OnlineSecurity', 'OnlineBackup', 'DeviceProtection', 'TechSupport', \n",
    "                    'StreamingTV', 'StreamingMovies', 'MultipleLines']\n",
    "\n",
    "for col in categorical_cols:\n",
    "    plt.figure(figsize=(8, 3))\n",
    "    sns.countplot(data=merged_data, x=col, hue=col, palette='Set1', legend=False)\n",
    "    plt.title(f'Distribución de clientes por {col}')\n",
    "    plt.xlabel(col)\n",
    "    plt.ylabel('Número de clientes')\n",
    "    plt.xticks(rotation=10)\n",
    "    plt.show()"
   ]
  },
  {
   "attachments": {},
   "cell_type": "markdown",
   "metadata": {},
   "source": [
    "**Visualización de características categóricas:**\n",
    "Se muestran varios gráficos de barras que representan la distribución de clientes según diferentes características categóricas, como el tipo de contrato, el método de facturación electrónica, el método de pago, género, si tienen pareja, si tienen dependientes, el tipo de servicio de Internet y otros. Estos gráficos proporcionan una idea de la proporción de clientes en cada categoría, lo que puede ayudar a identificar posibles patrones o tendencias en la cancelación de clientes."
   ]
  },
  {
   "cell_type": "code",
   "execution_count": null,
   "metadata": {},
   "outputs": [],
   "source": [
    "# Análisis de la variable objetivo\n",
    "plt.figure(figsize=(10, 3))\n",
    "sns.countplot(data=merged_data[merged_data['EndDate'] != today], x='EndDate', hue='EndDate', palette='Set1')\n",
    "plt.title('Distribución de la fecha de finalización del contrato')\n",
    "plt.xlabel('Fecha de finalización del contrato')\n",
    "plt.ylabel('Número de clientes')\n",
    "plt.xticks(rotation=0)\n",
    "plt.show()"
   ]
  },
  {
   "attachments": {},
   "cell_type": "markdown",
   "metadata": {},
   "source": [
    "El gráfico de la variable objetivo muestra la distribución de la fecha de finalización del contrato para los clientes. En este caso, se ha filtrado para excluir aquellos clientes cuya fecha de finalización es igual al día de hoy, lo que indica que siguen siendo clientes activos.\n",
    "\n",
    "A través de este gráfico, puedes visualizar cómo se distribuyen las finalizaciones de contrato a lo largo del tiempo, lo cual es importante para comprender la dinámica de la cancelación de clientes en diferentes períodos."
   ]
  },
  {
   "cell_type": "code",
   "execution_count": null,
   "metadata": {},
   "outputs": [],
   "source": [
    "# Exploración de tendencias temporales\n",
    "plt.figure(figsize=(10, 3))\n",
    "sns.lineplot(data=merged_data, x='BeginDate', y='MonthlyCharges', hue='Type', errorbar=None)\n",
    "plt.title('Tendencia de cargos mensuales a lo largo del tiempo')\n",
    "plt.xlabel('Fecha de inicio del contrato')\n",
    "plt.ylabel('Cargos mensuales')\n",
    "plt.show()"
   ]
  },
  {
   "attachments": {},
   "cell_type": "markdown",
   "metadata": {},
   "source": [
    "El análisis del gráfico revela una tendencia general a la baja en los cargos mensuales a lo largo del tiempo para todos los tipos de contratos, lo que implica una disminución gradual en los montos que los clientes pagan mensualmente. La mayor volatilidad se observa en la línea azul, que representa los contratos de mes a mes, indicando fluctuaciones más notables, posiblemente atribuibles a cambios frecuentes en las tarifas o la implementación de promociones temporales. Por otro lado, las líneas anaranjada (un año) y verde (dos años) también muestran fluctuaciones en los cargos mensuales, aunque con menos volatilidad en comparación con los contratos de mes a mes, lo que sugiere que los clientes con contratos a más largo plazo experimentan cambios en los cargos con menor frecuencia. "
   ]
  },
  {
   "cell_type": "code",
   "execution_count": null,
   "metadata": {},
   "outputs": [],
   "source": [
    "# Segmentación de clientes\n",
    "plt.figure(figsize=(10, 6))\n",
    "sns.scatterplot(data=merged_data, x='MonthlyCharges', y='TotalCharges', hue='Type', alpha=0.5)\n",
    "plt.title('Segmentación de clientes por cargos mensuales y cargos totales')\n",
    "plt.xlabel('Cargos mensuales')\n",
    "plt.ylabel('Cargos totales')\n",
    "plt.show()"
   ]
  },
  {
   "attachments": {},
   "cell_type": "markdown",
   "metadata": {},
   "source": [
    "El gráfico muestra una segmentación de clientes mediante un diagrama de dispersión que ilustra tres tipos diferentes de puntos de datos, cada uno representado por un color distinto\n",
    "\n",
    "Los puntos azules (\"Month-to-month\") están más concentrados en la parte inferior del gráfico y forman una línea que se extiende diagonalmente hacia arriba a medida que se mueve de izquierda a derecha. Esto sugiere que los clientes con contratos de mes a mes tienden a tener cargos mensuales más bajos pero acumulan cargos totales a lo largo del tiempo, lo que puede indicar una mayor rotación de clientes o una menor fidelidad a largo plazo.\n",
    "\n",
    "Los puntos naranjas (\"One year\") y verdes (\"Two year\") también muestran una tendencia a aumentar, pero están más dispersos y cubren un rango vertical más amplio que los puntos azules. Esto podría sugerir que los clientes con contratos de uno o dos años tienen una mayor variabilidad en los cargos mensuales y totales, posiblemente debido a la diversidad de planes y servicios dentro de estos contratos más largos.\n",
    "\n",
    "La densidad de los puntos parece aumentar hacia la derecha del gráfico, indicando posiblemente un aumento en la frecuencia o cantidad de datos registrados en periodos más recientes o en valores más altos del eje horizontal. Esto podría reflejar un aumento en los cargos mensuales o totales con el tiempo o con contratos de mayor duración, lo que sugiere una posible tendencia hacia la estabilidad o la consolidación de clientes a largo plazo."
   ]
  },
  {
   "cell_type": "code",
   "execution_count": null,
   "metadata": {},
   "outputs": [],
   "source": [
    "# Seleccionar solo las columnas numéricas para el análisis de correlación\n",
    "numeric_columns = merged_data.select_dtypes(include=np.number)\n",
    "\n",
    "# Calcular la matriz de correlación\n",
    "correlation_matrix = numeric_columns.corr()\n",
    "\n",
    "# Visualizar la matriz de correlación como un mapa de calor\n",
    "plt.figure(figsize=(10, 6))\n",
    "sns.heatmap(correlation_matrix, annot=True, cmap='coolwarm', fmt=\".2f\")\n",
    "plt.title('Matriz de correlación entre características numéricas')\n",
    "plt.show()"
   ]
  },
  {
   "attachments": {},
   "cell_type": "markdown",
   "metadata": {},
   "source": [
    "El gráfico muestra una matriz de correlación representada como un mapa de calor, donde cada celda muestra el coeficiente de correlación entre diferentes pares de variables. Los coeficientes de correlación van desde -1 hasta 1.\n",
    "\n",
    "La diagonal de la matriz, que está más oscura en rojo, muestra la correlación perfecta de cada variable consigo misma, lo que es evidente al tener un coeficiente de correlación de 1. Los valores fuera de la diagonal indican la relación entre diferentes variables.\n",
    "\n",
    "Por ejemplo, la celda en la intersección de \"MonthlyCharges\" y \"TotalCharges\" tiene un coeficiente de correlación de 0.61, lo que sugiere una correlación positiva moderada entre estos dos atributos. Esto significa que a medida que aumentan los cargos mensuales, también tienden a aumentar los cargos totales, lo que es lógico."
   ]
  },
  {
   "attachments": {},
   "cell_type": "markdown",
   "metadata": {},
   "source": [
    "Aquí se exploran los datos para comprender mejor su naturaleza y distribución, se calculan estadísticas descriptivas, se visualizan distribuciones y características categóricas, y se analiza la variable objetivo, que en este caso es la tasa de cancelación. Además, se identifica una exploración de tendencias temporales relacionadas con la cancelación de clientes."
   ]
  },
  {
   "attachments": {},
   "cell_type": "markdown",
   "metadata": {},
   "source": [
    "## 4.- Selección de características"
   ]
  },
  {
   "cell_type": "code",
   "execution_count": null,
   "metadata": {},
   "outputs": [],
   "source": [
    "# Divide los datos en características (X) y variable objetivo (y)\n",
    "# Se eliminan las columnas irrelevantes o que contienen fechas\n",
    "X = merged_data.drop(['customerID', 'Churn', 'BeginDate', 'EndDate'], axis=1) \n",
    "y = merged_data['Churn']"
   ]
  },
  {
   "cell_type": "code",
   "execution_count": null,
   "metadata": {},
   "outputs": [],
   "source": [
    "# Codificación de variables categóricas\n",
    "# Se utiliza One-Hot Encoding para convertir las variables categóricas en variables numéricas\n",
    "encoder = OneHotEncoder(drop='first')\n",
    "X_encoded = encoder.fit_transform(X.select_dtypes(include=['object']))"
   ]
  },
  {
   "cell_type": "code",
   "execution_count": null,
   "metadata": {},
   "outputs": [],
   "source": [
    "# Escalado de características numéricas\n",
    "scaler = StandardScaler()\n",
    "X_scaled = scaler.fit_transform(X.select_dtypes(include=['int64', 'float64']))"
   ]
  },
  {
   "cell_type": "code",
   "execution_count": null,
   "metadata": {},
   "outputs": [],
   "source": [
    "# Concatenación de características codificadas y escaladas\n",
    "X_encoded_dense = X_encoded.toarray()\n",
    "X_processed = np.concatenate([X_encoded_dense, X_scaled], axis=1)"
   ]
  },
  {
   "cell_type": "code",
   "execution_count": null,
   "metadata": {},
   "outputs": [],
   "source": [
    "# División de los datos en conjuntos de entrenamiento y prueba\n",
    "X_train, X_test, y_train, y_test = train_test_split(X_processed, y, test_size=0.2, random_state=1234)"
   ]
  },
  {
   "cell_type": "code",
   "execution_count": null,
   "metadata": {},
   "outputs": [],
   "source": [
    "# Inicialización del clasificador de RandomForest\n",
    "rf_classifier = RandomForestClassifier(random_state=1234)"
   ]
  },
  {
   "cell_type": "code",
   "execution_count": null,
   "metadata": {},
   "outputs": [],
   "source": [
    "# Ajusta el clasificador al conjunto de entrenamiento\n",
    "rf_classifier.fit(X_train, y_train)"
   ]
  },
  {
   "cell_type": "code",
   "execution_count": null,
   "metadata": {},
   "outputs": [],
   "source": [
    "# Predicciones en el conjunto de prueba\n",
    "y_pred = rf_classifier.predict(X_test)"
   ]
  },
  {
   "cell_type": "code",
   "execution_count": null,
   "metadata": {},
   "outputs": [],
   "source": [
    "# Métricas de evaluación\n",
    "accuracy = accuracy_score(y_test, y_pred)\n",
    "conf_matrix = confusion_matrix(y_test, y_pred)\n",
    "classification_rep = classification_report(y_test, y_pred)"
   ]
  },
  {
   "cell_type": "code",
   "execution_count": null,
   "metadata": {},
   "outputs": [],
   "source": [
    "# Importancia de características\n",
    "feature_importances = rf_classifier.feature_importances_\n",
    "\n",
    "# Obtiene los nombres de las características categóricas transformadas\n",
    "encoded_feature_names = encoder.get_feature_names_out(input_features=X.select_dtypes(include=['object']).columns)\n",
    "\n",
    "# Obtiene los nombres de las características numéricas\n",
    "numerical_features = list(X.select_dtypes(include=['int64', 'float64']).columns)\n",
    "\n",
    "# Concatena los nombres de todas las características\n",
    "all_features = np.concatenate([encoded_feature_names, numerical_features])"
   ]
  },
  {
   "cell_type": "code",
   "execution_count": null,
   "metadata": {},
   "outputs": [],
   "source": [
    "# Análisis de características importantes\n",
    "feature_importance_df = pd.DataFrame({'Feature': all_features, 'Importance': feature_importances})\n",
    "feature_importance_df = feature_importance_df.sort_values(by='Importance', ascending=False)\n",
    "plt.figure(figsize=(10, 6))\n",
    "sns.barplot(data=feature_importance_df, y='Feature', x='Importance', hue='Feature', palette='viridis', dodge=False, legend=False)\n",
    "plt.title('Importancia de características para predecir la cancelación de clientes')\n",
    "plt.xlabel('Importancia')\n",
    "plt.ylabel('Características')\n",
    "plt.show()"
   ]
  },
  {
   "attachments": {},
   "cell_type": "markdown",
   "metadata": {},
   "source": [
    "\n",
    "El gráfico muestra la importancia de diferentes características para predecir la cancelación de clientes en una empresa de telecomunicaciones.\n",
    "Las cinco características más importantes para predecir la cancelación de clientes son las siguientes:\n",
    "\n",
    "**Duración del Contrato (ContractDuration):** Esta característica tiene una importancia significativamente alta en la predicción de la cancelación de clientes. Indica la duración del contrato del cliente con la empresa de telecomunicaciones.\n",
    "\n",
    "**Cargos Totales (TotalCharges):** La cantidad total de cargos incurridos por el cliente durante su tiempo con la empresa es una característica importante para predecir la cancelación.\n",
    "\n",
    "**Cargos Mensuales (MonthlyCharges):** El importe mensual que el cliente paga a la empresa también es una característica relevante para la predicción.\n",
    "\n",
    "**Tipo de Contrato (Type_Two year):** Este indica si el cliente tiene un contrato de dos años. Parece que los clientes con contratos a largo plazo tienen menos probabilidades de cancelar.\n",
    "\n",
    "**Método de Pago (PaymentMethod_Electronic check):** El método de pago electrónico cheque es una característica importante, lo que sugiere que los clientes que usan este método de pago tienen más probabilidades de cancelar en comparación con otros métodos de pago."
   ]
  },
  {
   "cell_type": "code",
   "execution_count": null,
   "metadata": {},
   "outputs": [],
   "source": [
    "# Análisis temporal\n",
    "plt.figure(figsize=(10, 6))\n",
    "sns.lineplot(data=merged_data, x='BeginDate', y='Churn', estimator='mean')\n",
    "plt.title('Tasa de cancelación a lo largo del tiempo')\n",
    "plt.xlabel('Fecha de inicio del contrato')\n",
    "plt.ylabel('Tasa de cancelación')\n",
    "plt.show()"
   ]
  },
  {
   "attachments": {},
   "cell_type": "markdown",
   "metadata": {},
   "source": [
    "La tendencia que podemos observar es una serie de fluctuaciones regulares en los valores medidos a lo largo del tiempo. A pesar de estas fluctuaciones, parece haber una dirección general en los datos, lo que sugiere una tendencia temporal en la métrica representada en la gráfica. La presencia de picos y valles a lo largo de la línea principal indica variaciones en los valores medidos, pero en general, se puede inferir una tendencia en los datos a lo largo del eje temporal."
   ]
  },
  {
   "cell_type": "code",
   "execution_count": null,
   "metadata": {},
   "outputs": [],
   "source": [
    "# Resultados\n",
    "print(\"Exactitud del modelo:\", accuracy)\n",
    "print(\"\\nMatriz de confusión:\\n\", conf_matrix)\n",
    "print(\"\\nInforme de clasificación:\\n\", classification_rep)"
   ]
  },
  {
   "attachments": {},
   "cell_type": "markdown",
   "metadata": {},
   "source": [
    "**Exactitud del modelo (Accuracy):** La exactitud del modelo es del 99.15%, lo que significa que el modelo predice correctamente el 99.15% de todos los casos. Esta métrica indica qué tan bien el modelo clasifica correctamente tanto los casos positivos como los negativos.\n",
    "\n",
    "**Matriz de confusión:** La matriz de confusión es una tabla que describe el rendimiento del modelo en términos de verdaderos positivos (TP), verdaderos negativos (TN), falsos positivos (FP) y falsos negativos (FN). En este caso, la matriz de confusión muestra que hay 1046 casos verdaderos negativos (casos en los que el modelo predijo correctamente que el cliente no cancelaría el servicio) y 351 casos verdaderos positivos (casos en los que el modelo predijo correctamente que el cliente cancelaría el servicio). Además, no hay falsos positivos ni falsos negativos, lo que indica que el modelo tiene un rendimiento muy bueno.\n",
    "\n",
    "**Informe de clasificación:** El informe de clasificación proporciona métricas de precisión, recall, f1-score y soporte para cada clase.\n",
    "\n",
    "Precision: La precisión es la proporción de casos positivos que fueron identificados correctamente por el modelo. Para la clase 0, la precisión es del 99%, y para la clase 1, la precisión es del 100%. Esto significa que prácticamente todos los casos predichos como positivos son verdaderos positivos.\n",
    "\n",
    "Recall: El recall (también conocido como sensibilidad) es la proporción de casos positivos que fueron identificados correctamente por el modelo entre todos los casos positivos reales. Para la clase 0, el recall es del 100%, lo que indica que el modelo identifica correctamente todos los casos de la clase 0. Para la clase 1, el recall es del 97%, lo que indica que el modelo identifica correctamente el 97% de los casos de la clase 1.\n",
    "\n",
    "F1-score: El F1-score es una medida de la precisión y el recall del modelo. Es la media armónica de la precisión y el recall, y se utiliza cuando hay un desequilibrio entre las clases. En este caso, tanto para la clase 0 como para la clase 1, el F1-score es alto, lo que indica un buen equilibrio entre la precisión y el recall.\n",
    "\n",
    "Soporte: El soporte es el número de ocurrencias de cada clase en el conjunto de datos de prueba. En este caso, hay 1046 casos de la clase 0 y 363 casos de la clase 1 en el conjunto de datos de prueba."
   ]
  },
  {
   "attachments": {},
   "cell_type": "markdown",
   "metadata": {},
   "source": [
    "**Conclusión:**\n",
    "\n",
    "En este estudio, se ha demostrado la eficacia de utilizar técnicas de análisis de datos y aprendizaje automático para predecir la cancelación de clientes en una empresa de telecomunicaciones. Se ha desarrollado un modelo predictivo utilizando un algoritmo RandomForest que logra una alta precisión en la predicción de la cancelación de clientes.\n",
    "\n",
    "El análisis exploratorio de datos reveló algunas tendencias interesantes, como la relación entre ciertas características de los clientes y la probabilidad de cancelación de sus servicios. Además, se identificaron características importantes que influyen en la predicción de la cancelación de clientes, lo que proporciona información valiosa para la toma de decisiones empresariales.\n",
    "\n",
    "En resumen, este estudio destaca la importancia de utilizar el análisis de datos y el aprendizaje automático para comprender mejor el comportamiento de los clientes y anticipar sus necesidades. Implementar modelos predictivos precisos puede ayudar a las empresas a mejorar la retención de clientes y aumentar la satisfacción del cliente, lo que a su vez puede conducir a un mayor éxito empresarial."
   ]
  }
 ],
 "metadata": {
  "kernelspec": {
   "display_name": "Python 3",
   "language": "python",
   "name": "python3"
  },
  "language_info": {
   "codemirror_mode": {
    "name": "ipython",
    "version": 3
   },
   "file_extension": ".py",
   "mimetype": "text/x-python",
   "name": "python",
   "nbconvert_exporter": "python",
   "pygments_lexer": "ipython3",
   "version": "3.11.9"
  },
  "orig_nbformat": 4
 },
 "nbformat": 4,
 "nbformat_minor": 2
}
